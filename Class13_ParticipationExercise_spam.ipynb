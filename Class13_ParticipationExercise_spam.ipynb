{
  "nbformat": 4,
  "nbformat_minor": 0,
  "metadata": {
    "colab": {
      "provenance": [],
      "authorship_tag": "ABX9TyO8QFyggYy3hcUkUW8UF0Ib",
      "include_colab_link": true
    },
    "kernelspec": {
      "name": "python3",
      "display_name": "Python 3"
    },
    "language_info": {
      "name": "python"
    }
  },
  "cells": [
    {
      "cell_type": "markdown",
      "metadata": {
        "id": "view-in-github",
        "colab_type": "text"
      },
      "source": [
        "<a href=\"https://colab.research.google.com/github/ich-20211101/domo/blob/main/Class13_ParticipationExercise_spam.ipynb\" target=\"_parent\"><img src=\"https://colab.research.google.com/assets/colab-badge.svg\" alt=\"Open In Colab\"/></a>"
      ]
    },
    {
      "cell_type": "code",
      "execution_count": 4,
      "metadata": {
        "colab": {
          "base_uri": "https://localhost:8080/"
        },
        "id": "AOd3TlcL10zq",
        "outputId": "4e5593a3-3d0d-411b-ce0c-c2d32ab04bcd"
      },
      "outputs": [
        {
          "output_type": "stream",
          "name": "stdout",
          "text": [
            "example_one ['positive']\n",
            "example_two ['negative']\n"
          ]
        }
      ],
      "source": [
        "import nltk\n",
        "from sklearn.feature_extraction.text import CountVectorizer\n",
        "from sklearn.naive_bayes import MultinomialNB\n",
        "\n",
        "documents = [\n",
        "    (\"I really enjoy learning about data engineering.\", \"positive\"),\n",
        "    (\"This college program is very interesting and helpful.\", \"positive\"),\n",
        "    (\"Machine learning makes data analysis more efficient.\", \"positive\"),\n",
        "    (\"I love solving real-world problems with data.\", \"positive\"),\n",
        "    (\"Coding in Python is fun and improves my skills.\", \"positive\"),\n",
        "    (\"Sometimes, debugging code can be really frustrating.\", \"negative\"),\n",
        "    (\"I find SQL queries difficult to understand.\", \"negative\"),\n",
        "    (\"This assignment is too complicated and confusing.\", \"negative\"),\n",
        "    (\"Studying late at night makes me feel exhausted.\", \"negative\"),\n",
        "    (\"The lack of practical projects makes learning harder.\", \"negative\")\n",
        "]\n",
        "\n",
        "vectorizer = CountVectorizer() # 단어를 숫자로 변환\n",
        "features = vectorizer.fit_transform([doc[0] for doc in documents]) # 각 단어의 빈도수를 기반으로 벡터화\n",
        "labels = [doc[1] for doc in documents] # 문장의 감정(라벨) 목록 생성\n",
        "\n",
        "classifier = MultinomialNB() # Naive Bayes 분류기 생성\n",
        "classifier.fit(features, labels) # 벡터화된 데이터와 라벨을 학습하여 모델 훈련\n",
        "\n",
        "example_one = vectorizer.transform([\"Learning data engineering is challenging but rewarding.\"]) # 새로운 문장을 벡터로 변환\n",
        "prediction_one = classifier.predict(example_one) # 해당 문장이 긍정(“positive”)인지 부정(“negative”)인지 예측\n",
        "\n",
        "example_two = vectorizer.transform([\"I feel stressed when I can't understand an algorithm.\"])\n",
        "prediction_two = classifier.predict(example_two)\n",
        "\n",
        "print(\"example_one\", prediction_one)\n",
        "print(\"example_two\", prediction_two)"
      ]
    },
    {
      "cell_type": "code",
      "source": [
        "import nltk\n",
        "from sklearn.feature_extraction.text import CountVectorizer\n",
        "from sklearn.naive_bayes import MultinomialNB\n",
        "\n",
        "documents = [\n",
        "    (\"Win a brand new iPhone! Click here now!\", \"spam\"),\n",
        "    (\"Congratulations! You have won a lottery!\", \"spam\"),\n",
        "    (\"Claim your free gift today!\", \"spam\"),\n",
        "    (\"Limited offer! Get a discount now!\", \"spam\"),\n",
        "    (\"Earn money from home easily.\", \"spam\"),\n",
        "    (\"Hey, how are you?\", \"not spam\"),\n",
        "    (\"Let's meet up this weekend.\", \"not spam\"),\n",
        "    (\"Can you send me the report?\", \"not spam\"),\n",
        "    (\"Don't forget about our appointment.\", \"not spam\"),\n",
        "    (\"I'll call you later.\", \"not spam\")\n",
        "]\n",
        "\n",
        "vectorizer = CountVectorizer()\n",
        "features = vectorizer.fit_transform([doc[0] for doc in documents])\n",
        "labels = [doc[1] for doc in documents]\n",
        "\n",
        "classifier = MultinomialNB()\n",
        "classifier.fit(features, labels)\n",
        "\n",
        "example_1 = vectorizer.transform([\"Claim your free prize now!\"])\n",
        "prediction_1 = classifier.predict(example_1)\n",
        "\n",
        "example_2 = vectorizer.transform([\"Let's have lunch together tomorrow.\"])\n",
        "prediction_2 = classifier.predict(example_2)\n",
        "\n",
        "print(\"example_1\", prediction_1)\n",
        "print(\"example_2\", prediction_2)"
      ],
      "metadata": {
        "colab": {
          "base_uri": "https://localhost:8080/"
        },
        "id": "jnfpXvqt4nKh",
        "outputId": "e47b8203-a072-4c6b-bf46-12c16b169e39"
      },
      "execution_count": 7,
      "outputs": [
        {
          "output_type": "stream",
          "name": "stdout",
          "text": [
            "example_1 ['spam']\n",
            "example_2 ['not spam']\n"
          ]
        }
      ]
    }
  ]
}